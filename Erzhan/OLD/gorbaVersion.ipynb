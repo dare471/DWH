{
 "cells": [
  {
   "cell_type": "code",
   "execution_count": 1,
   "metadata": {},
   "outputs": [],
   "source": [
    "# LIBRARIES\n",
    "# *********\n",
    "import requests # request for the web pagegg\n",
    "from fake_useragent import UserAgent # to fake meta data\n",
    "from requests.packages.urllib3.exceptions import InsecureRequestWarning # handle while requesting for the web page\n",
    "from selenium import webdriver # create a simulation of the pseudo-user\n",
    "import time # set sleep on web page on every click, handling nginx error\n",
    "import datetime  # record start time\n",
    "from bs4 import BeautifulSoup # to get web page soure\n",
    "import pandas as pd # create df\n",
    "import numpy as np # manipulate with shape of the df\n",
    "import pyodbc\n",
    "import csv # get rid off quotes\n",
    "import json\n",
    "lol = lambda lst, sz: [lst[i:i+sz] for i in range(0, len(lst), sz)]"
   ]
  },
  {
   "cell_type": "code",
   "execution_count": 2,
   "metadata": {},
   "outputs": [
    {
     "name": "stderr",
     "output_type": "stream",
     "text": [
      "<ipython-input-2-d89da3cdb56e>:4: DeprecationWarning: use options instead of chrome_options\n",
      "  d = webdriver.Chrome(chrome_options=options, executable_path=r\"\\\\aafssrv\\SHARED-BI\\driver\\chromedriver.exe\")\n"
     ]
    }
   ],
   "source": [
    "options = webdriver.ChromeOptions()\n",
    "options.add_argument(\"start-maximized\")\n",
    "options.add_argument('disable-infobars')\n",
    "d = webdriver.Chrome(chrome_options=options, executable_path=r\"\\\\aafssrv\\SHARED-BI\\driver\\chromedriver.exe\")"
   ]
  },
  {
   "cell_type": "code",
   "execution_count": 3,
   "metadata": {},
   "outputs": [
    {
     "name": "stdout",
     "output_type": "stream",
     "text": [
      "0  =  Пестициды2020\n",
      "Started:  2020-12-22, 19:06:18\n",
      "This page's Navgation steps =  1688\n",
      "Number of cols =  16 Columns are  ['№', 'Область', 'Дата подачи заявки', 'Наименование заявителя', 'Производитель пестицидов', 'Наименование препарата', 'Объем пестицида в базовой ед.измерения', 'Базовая единица измерения', 'Площадь использования, га', 'Статус', 'Тип заявки', 'Дата принятия заявки', 'Дата отклонения', 'Сумма субсидий (расчетная), тг.', 'Причина отклонения', 'Примечание к отрицательному решению']\n",
      "Finished:  2020-12-22, 21:09:22\n",
      "Finished:  2020-12-22, 23:11:29\n",
      "Finished:  2020-12-23, 00:01:42\n",
      "1  =  Удобрения2020\n",
      "Started:  2020-12-23, 00:01:42\n",
      "This page's Navgation steps =  953\n",
      "Number of cols =  16 Columns are  ['№', 'Область', 'Наименование заявителя', 'Дата подачи заявки', 'Статус', 'Площадь использования, га', 'Производитель удобрений', 'Наименование удобрения', 'Единица измерения', 'Объем удобрения', 'Сумма субсидий (расчетная), тг.', 'Тип заявки', 'Дата принятия заявки', 'Дата отрицательного решения', 'Примечание к отрицательному решению', 'Причина отрицательного решения']\n",
      "Finished:  2020-12-23, 02:00:13\n",
      "Finished:  2020-12-23, 02:42:44\n",
      "2  =  Пестициды2019\n",
      "Started:  2020-12-23, 02:42:44\n",
      "This page's Navgation steps =  1347\n",
      "Number of cols =  16 Columns are  ['№', 'Область', 'Дата подачи заявки', 'Наименование заявителя', 'Производитель пестицидов', 'Наименование препарата', 'Объем пестицида в базовой ед.измерения', 'Базовая единица измерения', 'Площадь использования, га', 'Статус', 'Тип заявки', 'Дата принятия заявки', 'Дата отклонения', 'Сумма субсидий (расчетная), тг.', 'Причина отклонения', 'Примечание к отрицательному решению']\n",
      "Finished:  2020-12-23, 04:41:22\n",
      "Finished:  2020-12-23, 06:31:05\n",
      "3  =  Удобрения2019\n",
      "Started:  2020-12-23, 06:31:05\n",
      "This page's Navgation steps =  817\n",
      "Number of cols =  16 Columns are  ['№', 'Область', 'Наименование заявителя', 'Дата подачи заявки', 'Статус', 'Площадь использования, га', 'Производитель удобрений', 'Наименование удобрения', 'Единица измерения', 'Объем удобрения', 'Сумма субсидий (расчетная), тг.', 'Тип заявки', 'Дата принятия заявки', 'Дата отрицательного решения', 'Примечание к отрицательному решению', 'Причина отрицательного решения']\n",
      "Finished:  2020-12-23, 08:28:10\n",
      "Finished:  2020-12-23, 08:47:41\n"
     ]
    }
   ],
   "source": [
    "# L I N K S\n",
    "# baseURL of Qoldau\n",
    "baseUrl = \"https://subsidies.qoldau.kz/ru/subsidies/\"\n",
    "\n",
    "# applications\n",
    "appFerti = \"fertilizer/pub-apps\"\n",
    "appPest = \"herbicides/pub-apps\"\n",
    "appSeed = \"seed/pub-apps\"\n",
    "y2019 = \"?Year=2019\"\n",
    "\n",
    "listOfLinks = [appPest, appFerti, appPest+y2019, appFerti+y2019] #appSeed\n",
    "listOfNames =  [ \"Пестициды2020\", \"Удобрения2020\", \"Пестициды2019\", \"Удобрения2019\"] #\"Семена2019_2020\"\n",
    "\n",
    "linkN = 0\n",
    "for link in listOfLinks:\n",
    "    print(linkN, \" = \", listOfNames[linkN])\n",
    "    print(\"Started: \", datetime.datetime.now().astimezone().strftime(\"%Y-%m-%d, %H:%M:%S\"))\n",
    "    d.get(baseUrl+link)#, headers={'User-Agent': UserAgent().chrome})\n",
    "    time.sleep(2)\n",
    "    html = d.page_source\n",
    "    nPages = int(d.find_elements_by_xpath('//li[@data-page-index]/a')[-2].text)\n",
    "    print(\"This page's Navgation steps = \", nPages)\n",
    "    tempLastN = []\n",
    "    tempRowData = []\n",
    "    cols = d.find_element_by_xpath(\"//div[@class='sw-result-table-container']/div/div/table\").find_elements_by_tag_name('th')\n",
    "    colNames = []\n",
    "    tempColNames = []\n",
    "    for col in cols:\n",
    "        r = col.get_attribute(\"innerText\").replace('\\n', ',')\n",
    "        tempColNames.append(r)\n",
    "    colN = len(tempColNames)\n",
    "    print(\"Number of cols = \", colN, \"Columns are \", tempColNames)\n",
    "    for LastN in d.find_elements_by_xpath(\"//div[@class='pull-right']/div/span\"):\n",
    "        tempLastN.append(LastN.text.split(' '))\n",
    "    lastN = int(tempLastN[-1][-1])\n",
    "    someone = 0\n",
    "    someonee = 0\n",
    "    for click in range(nPages):\n",
    "        rows = d.find_element_by_xpath(\"//div[@class='sw-result-table-container']/div/div/table/tbody\").find_elements_by_tag_name('td')\n",
    "        if(rows[0].text != \"Нет записей\"):\n",
    "            for row in rows:\n",
    "                tempRowData.append(row.text)\n",
    "            d.find_elements_by_xpath('//li[@data-page-index]/a')[-1].click()\n",
    "            someone+=1\n",
    "            time.sleep(3)\n",
    "            if someone == 700:\n",
    "                f = pd.DataFrame(lol(tempRowData, colN), columns=tempColNames)\n",
    "                f.to_csv(r'\\\\aafssrv\\SHARED-BI\\files_aa_dwh_x\\dataBase\\qldData\\qld(new)\\/' + listOfNames[linkN] + '-' + str(someonee) + '.csv', encoding='utf-8', sep='|', quoting = csv.QUOTE_NONE, quotechar=\"\",  escapechar=\"~\")\n",
    "                tempRowData = []\n",
    "                print(\"Finished: \", datetime.datetime.now().astimezone().strftime(\"%Y-%m-%d, %H:%M:%S\"))\n",
    "                someone = 0\n",
    "                someonee+=1\n",
    "    f = pd.DataFrame(lol(tempRowData, colN), columns=tempColNames)\n",
    "    if someonee == 0:\n",
    "        f.to_csv(r'\\\\aafssrv\\SHARED-BI\\files_aa_dwh_x\\dataBase\\qldData\\qld(new)\\/' + listOfNames[linkN] + '.csv', encoding='utf-8', sep='|', quoting = csv.QUOTE_NONE, quotechar=\"\",  escapechar=\"~\")\n",
    "    else:\n",
    "        f.to_csv(r'\\\\aafssrv\\SHARED-BI\\files_aa_dwh_x\\dataBase\\qldData\\qld(new)\\/' + listOfNames[linkN] + '-' + str(someonee) + '.csv', encoding='utf-8', sep='|', quoting = csv.QUOTE_NONE, quotechar=\"\",  escapechar=\"~\")\n",
    "    linkN += 1\n",
    "    tempRowData = []\n",
    "    print(\"Finished: \", datetime.datetime.now().astimezone().strftime(\"%Y-%m-%d, %H:%M:%S\"))"
   ]
  },
  {
   "cell_type": "code",
   "execution_count": null,
   "metadata": {},
   "outputs": [],
   "source": []
  }
 ],
 "metadata": {
  "kernelspec": {
   "display_name": "Python 3",
   "language": "python",
   "name": "python3"
  },
  "language_info": {
   "codemirror_mode": {
    "name": "ipython",
    "version": 3
   },
   "file_extension": ".py",
   "mimetype": "text/x-python",
   "name": "python",
   "nbconvert_exporter": "python",
   "pygments_lexer": "ipython3",
   "version": "3.8.3"
  }
 },
 "nbformat": 4,
 "nbformat_minor": 4
}
