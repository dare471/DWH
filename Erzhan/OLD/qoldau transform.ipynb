{
 "cells": [
  {
   "cell_type": "code",
   "execution_count": 23,
   "metadata": {},
   "outputs": [],
   "source": [
    "import os\n",
    "import csv\n",
    "import pandas as pd"
   ]
  },
  {
   "cell_type": "code",
   "execution_count": 2,
   "metadata": {},
   "outputs": [],
   "source": [
    "df = pd.read_csv(r'\\\\aafssrv\\SHARED-BI\\files_aa_dwh_x\\dataBase\\qldData\\qld(new)\\разделенный\\Пестициды2019-0.csv', encoding='utf-8', sep='|', quoting = csv.QUOTE_NONE, quotechar=\"\",  escapechar=\"~\")"
   ]
  },
  {
   "cell_type": "code",
   "execution_count": 3,
   "metadata": {},
   "outputs": [],
   "source": [
    "df1 = pd.read_csv(r'\\\\aafssrv\\SHARED-BI\\files_aa_dwh_x\\dataBase\\qldData\\qld(new)\\разделенный\\Пестициды2019-1.csv', encoding='utf-8', sep='|', quoting = csv.QUOTE_NONE, quotechar=\"\",  escapechar=\"~\")"
   ]
  },
  {
   "cell_type": "code",
   "execution_count": 24,
   "metadata": {},
   "outputs": [],
   "source": [
    "df = pd.read_excel(r'C:\\Users\\Bauyrzhan\\Desktop\\колдауский\\Пестициды.xlsx')"
   ]
  },
  {
   "cell_type": "code",
   "execution_count": 25,
   "metadata": {},
   "outputs": [],
   "source": [
    "df1 = pd.read_excel(r'C:\\Users\\Bauyrzhan\\Desktop\\колдауский\\Удобрения.xlsx')"
   ]
  },
  {
   "cell_type": "code",
   "execution_count": 30,
   "metadata": {},
   "outputs": [],
   "source": [
    "df1 = df1[['Область', 'Дата подачи заявки', 'Наименование заявителя', \n",
    "        'Производитель удобрений', 'Наименование удобрения',\n",
    "        'Объем удобрения', 'Единица измерения',\n",
    "        'Площадь использования, га', 'Статус', 'Тип заявки',\n",
    "        'Дата принятия заявки', 'Дата отрицательного решения',\n",
    "        'Сумма субсидий (расчетная), тг.', 'Причина отрицательного решения',\n",
    "        'Примечание к отрицательному решению', 'Группа', 'Год']]"
   ]
  },
  {
   "cell_type": "code",
   "execution_count": 31,
   "metadata": {},
   "outputs": [],
   "source": [
    "kolonki = ['region','appDate','applicant',\n",
    " 'provider','product','volume','unit',\n",
    " 'areaOfUsage','status','typeOfApp','AppAcceptanceDate',\n",
    " 'DateOfRejection','subsidies','reasonOfRejection',\n",
    " 'NoteOnNegativeResolution','group','year']"
   ]
  },
  {
   "cell_type": "code",
   "execution_count": 32,
   "metadata": {},
   "outputs": [],
   "source": [
    "df.columns = kolonki"
   ]
  },
  {
   "cell_type": "code",
   "execution_count": 33,
   "metadata": {},
   "outputs": [],
   "source": [
    "df1.columns = kolonki"
   ]
  },
  {
   "cell_type": "code",
   "execution_count": 39,
   "metadata": {},
   "outputs": [],
   "source": [
    "subsidies_02_raw = df"
   ]
  },
  {
   "cell_type": "code",
   "execution_count": 40,
   "metadata": {},
   "outputs": [
    {
     "name": "stdout",
     "output_type": "stream",
     "text": [
      "<pyodbc.Connection object at 0x000001C715E6D100>\n"
     ]
    }
   ],
   "source": [
    "import csv\n",
    "import pandas as pd\n",
    "import pyodbc\n",
    "import numpy as np\n",
    "import matplotlib.pyplot as plt\n",
    "server = '192.168.1.209'  #tcp:myserver.database.windows.net \n",
    "database = 'AA_DWH_X' #mydb\n",
    "username = 'pbi_report' #myusername \n",
    "password = '1s22s22p6' #mypassword\n",
    "# driver = r'C:\\Users\\M_MUKHANOVA\\aads\\driver\\msodbcsql.msi'\n",
    "conn = pyodbc.connect('DRIVER={sql server};SERVER='+server+';DATABASE='+database+';UID='+username+';PWD='+ password)\n",
    "cursor = conn.cursor()\n",
    "print(conn)"
   ]
  },
  {
   "cell_type": "code",
   "execution_count": 41,
   "metadata": {},
   "outputs": [],
   "source": [
    "qName_sql = ('SELECT * FROM qName')\n",
    "qName = pd.read_sql(qName_sql, conn)\n",
    "qName = qName.applymap(str)\n",
    "qName.codERP = qName.codERP.str.pad(9, side='left', fillchar='0')"
   ]
  },
  {
   "cell_type": "code",
   "execution_count": 42,
   "metadata": {},
   "outputs": [],
   "source": [
    "cato_sql = ('SELECT * FROM cato')\n",
    "cato = pd.read_sql(cato_sql, conn)\n",
    "cato = cato.applymap(str)"
   ]
  },
  {
   "cell_type": "code",
   "execution_count": 43,
   "metadata": {},
   "outputs": [],
   "source": [
    "qWithProdCodes = pd.merge(subsidies_02_raw, qName[[\"name\", \"codERP\"]], left_on = \"product\", right_on = \"name\", how='left').drop(columns = [\"name\"])\n",
    "subsidies_02 = pd.merge(qWithProdCodes, cato[[\"name\", \"cato_Id\"]], left_on = \"region\", right_on = \"name\", how='left').drop(columns = [\"name\"])"
   ]
  },
  {
   "cell_type": "code",
   "execution_count": 44,
   "metadata": {},
   "outputs": [
    {
     "name": "stderr",
     "output_type": "stream",
     "text": [
      "<ipython-input-44-4f0a292d31be>:3: SettingWithCopyWarning: \n",
      "A value is trying to be set on a copy of a slice from a DataFrame\n",
      "\n",
      "See the caveats in the documentation: https://pandas.pydata.org/pandas-docs/stable/user_guide/indexing.html#returning-a-view-versus-a-copy\n",
      "  subsidies_02['cato_Id'][i] = '790000000'\n"
     ]
    }
   ],
   "source": [
    "for i in range(len(subsidies_02['region'])):\n",
    "    if subsidies_02['region'][i] == 'Шымкент г.а.':\n",
    "        subsidies_02['cato_Id'][i] = '790000000'\n",
    "    elif subsidies_02['region'][i] == 'Алматы г.а.':\n",
    "        subsidies_02['cato_Id'][i] = '750000000'\n",
    "    elif subsidies_02['region'][i] == 'Нур-Султан г.а.':\n",
    "        subsidies_02['cato_Id'][i] = '710000000'"
   ]
  },
  {
   "cell_type": "code",
   "execution_count": 48,
   "metadata": {},
   "outputs": [],
   "source": [
    "df['volume'] = df['volume'].apply(lambda x:x.replace(',','.') if type(x) == str else x)\n",
    "df['volume'] = df['volume'].apply(lambda x:float(x.replace(' ','')) if type(x) == str else x)\n",
    "df['col1'] = df.apply(lambda row: 1000*row['volume'] if row['unit'] == 'тонн' else row['volume'], axis=1)\n",
    "df.drop(['volume'],axis=1,inplace=True)\n",
    "df = df.rename(columns={\"col1\": \"volume\"})\n",
    "df = df[['region','appDate','applicant','provider','product',\n",
    "         'volume','unit','areaOfUsage','status','typeOfApp',\n",
    "         'AppAcceptanceDate','DateOfRejection','subsidies',\n",
    "         'reasonOfRejection','NoteOnNegativeResolution','group','year']]"
   ]
  },
  {
   "cell_type": "code",
   "execution_count": null,
   "metadata": {},
   "outputs": [],
   "source": [
    "df.to_excel('pesticides.xlsx')\n",
    "df.to_csv(r'C:\\Users\\Bauyrzhan\\Desktop\\колдауский\\/' + 'pesticides' + '.csv', encoding='utf-8', sep='|', quoting = csv.QUOTE_NONE, quotechar=\"\",  escapechar=\"~\")"
   ]
  },
  {
   "cell_type": "code",
   "execution_count": null,
   "metadata": {},
   "outputs": [],
   "source": [
    "df1.to_excel('fertilizers.xlsx')\n",
    "df1.to_csv(r'C:\\Users\\Bauyrzhan\\Desktop\\колдауский\\/' + 'fertilizers' + '.csv', encoding='utf-8', sep='|', quoting = csv.QUOTE_NONE, quotechar=\"\",  escapechar=\"~\")"
   ]
  }
 ],
 "metadata": {
  "kernelspec": {
   "display_name": "Python 3",
   "language": "python",
   "name": "python3"
  },
  "language_info": {
   "codemirror_mode": {
    "name": "ipython",
    "version": 3
   },
   "file_extension": ".py",
   "mimetype": "text/x-python",
   "name": "python",
   "nbconvert_exporter": "python",
   "pygments_lexer": "ipython3",
   "version": "3.8.3"
  }
 },
 "nbformat": 4,
 "nbformat_minor": 4
}
